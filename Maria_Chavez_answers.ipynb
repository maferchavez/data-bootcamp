{
 "cells": [
  {
   "cell_type": "code",
   "execution_count": 1,
   "metadata": {},
   "outputs": [],
   "source": [
    "import pandas as pd\n",
    "import numpy as np\n",
    "import pprint\n",
    "\n",
    "url='https://drive.google.com/file/d/1PCJ7ltluquoXKi6MYTPMfwZQNI_-MIFP/view?usp=sharing'\n",
    "url='https://drive.google.com/uc?id=' + url.split('/')[-2]\n",
    "data_frame = pd.read_csv(url)"
   ]
  },
  {
   "cell_type": "code",
   "execution_count": 2,
   "metadata": {},
   "outputs": [],
   "source": [
    "answer_dict =  {\"Q1\" : None,\n",
    "                \"Q2\" : None,\n",
    "                \"Q3\" : None,\n",
    "                \"Q4\" : None,\n",
    "                \"Q5\" : None,\n",
    "                \"Q6\" : None,\n",
    "                \"Q7\" : None}"
   ]
  },
  {
   "cell_type": "code",
   "execution_count": 3,
   "metadata": {},
   "outputs": [],
   "source": [
    "# ######### Q1\n",
    "\n",
    "vw_frame = data_frame[data_frame[\"Make\"] == 'Volkswagen']\n",
    "mean_co2_vw = vw_frame['CO2 Emission Grams/Mile'].mean()\n",
    "\n",
    "answer_dict[\"Q1\"] =  mean_co2_vw"
   ]
  },
  {
   "cell_type": "code",
   "execution_count": 4,
   "metadata": {},
   "outputs": [],
   "source": [
    "# ######### Q2\n",
    "\n",
    "# Separate from the duplicate car models.\n",
    "unique_models = data_frame.drop_duplicates(subset = [\"Model\"]) \n",
    "\n",
    "# Count duplicates in brand to know how many unique models the brand have.\n",
    "brand_count = unique_models.pivot_table(columns = ['Make'], aggfunc='size')\n",
    "\n",
    "# Order the brands by number of models\n",
    "top5_models = brand_count.sort_values(ascending = False)\n",
    "brand_count = top5_models.head(5)\n",
    "\n",
    "# Get the indexes' names\n",
    "indexes = []\n",
    "for row in brand_count.head().index:\n",
    "    indexes.append(row)\n",
    "    \n",
    "# Get the values\n",
    "values = brand_count.values.tolist()\n",
    "\n",
    "top5_list = [[indexes[i], values[i]] for i in range(len(indexes))]\n",
    "#pprint.pprint (top5_list)\n",
    "\n",
    "answer_dict[\"Q2\"] = top5_list "
   ]
  },
  {
   "cell_type": "code",
   "execution_count": 5,
   "metadata": {},
   "outputs": [],
   "source": [
    "########## Q3\n",
    "\n",
    "fuel_types = list(data_frame['Fuel Type'].unique())\n",
    "fuel_types.sort()\n",
    "\n",
    "answer_dict[\"Q3\"] =  fuel_types\n",
    "\n",
    "# Doing this excersice I realized there were some Fuel Types strings that have more words describing other types of fuels,\n",
    "# so I decided to code other way to separate those strings and have a more accurate answer, describing separately ALL types\n",
    "# of fuels.\n",
    "#\n",
    "# Here my other code:\n",
    "#\n",
    "# fuel_types = (data_frame['Fuel Type'].unique())\n",
    "#\n",
    "# other_fuels1 = [] # Create list to save the joined fuels like \"Gasoline or E85\" or \"Premium and electricity\"\n",
    "# other_fuels2 = [] # List for singular fuels\n",
    "#\n",
    "# for fuels in fuel_types:\n",
    "#     if \"or\" in fuels or \"and\" in fuels:\n",
    "#         o = fuels.find('or') \n",
    "#         y = fuels.find('and')\n",
    "#         if o > 0:\n",
    "#             other_fuels1.append(fuels[:o-1])\n",
    "#             other_fuels1.append(fuels[o+3:])\n",
    "#         else:\n",
    "#             other_fuels1.append(fuels[:y-1])\n",
    "#             other_fuels1.append(fuels[y+4:])\n",
    "#     else:\n",
    "#         other_fuels2.append(fuels)\n",
    "#\n",
    "# capitalized_fuels = []\n",
    "#\n",
    "# for item in other_fuels1:\n",
    "#     capitalized_fuels.append(item.capitalize())\n",
    "#\n",
    "# all_fuels = list(set(capitalized_fuels + other_fuels2))\n",
    "# all_fuels.sort()\n"
   ]
  },
  {
   "cell_type": "code",
   "execution_count": 6,
   "metadata": {},
   "outputs": [],
   "source": [
    "########## Q4\n",
    "\n",
    "# Import module to calculate z score\n",
    "import scipy.stats as stats\n",
    "\n",
    "toyota_frame = data_frame[data_frame[\"Make\"] == 'Toyota']\n",
    "z_score = stats.zscore(toyota_frame['Fuel Barrels/Year'])\n",
    "\n",
    "# Add a new colum with z scores to toyota_frame\n",
    "toyota_frame.insert(loc = 10, column = 'z score', value = z_score)\n",
    "\n",
    " # Add colum for absolute values of z score to toyota_frame\n",
    "toyota_frame.insert(loc = 11, column = '|z score|', value = abs(z_score))\n",
    "top9 = toyota_frame.nlargest(9,'|z score|')\n",
    "top9_sort = top9.sort_values(by = ['|z score|', 'Year'], ascending = False)\n",
    "\n",
    "# Create columns lists to form 9X3 list\n",
    "models_ls = top9_sort['Model'].values.tolist()\n",
    "years_ls = top9_sort['Year'].values.tolist()\n",
    "zscore_ls = top9_sort['z score'].values.tolist()\n",
    "\n",
    "# Join lists\n",
    "top9_list = [[models_ls[i], years_ls[i],zscore_ls[i]] for i in range(9)]\n",
    "\n",
    "\n",
    "answer_dict[\"Q4\"] =  top9_list"
   ]
  },
  {
   "cell_type": "code",
   "execution_count": 7,
   "metadata": {},
   "outputs": [
    {
     "name": "stderr",
     "output_type": "stream",
     "text": [
      "C:\\Users\\maryf\\Anaconda3\\lib\\site-packages\\pandas\\core\\frame.py:4244: SettingWithCopyWarning: \n",
      "A value is trying to be set on a copy of a slice from a DataFrame\n",
      "\n",
      "See the caveats in the documentation: http://pandas.pydata.org/pandas-docs/stable/user_guide/indexing.html#returning-a-view-versus-a-copy\n",
      "  **kwargs\n"
     ]
    }
   ],
   "source": [
    "########## Q5\n",
    "\n",
    "# Filter data\n",
    "golf_frame = data_frame[(data_frame[\"Model\"] == 'Golf') & (data_frame[\"Transmission\"] == 'Manual 5-spd') & (data_frame[\"Fuel Type\"] == 'Regular')]\n",
    "\n",
    "# Calculate the difference ann add a column in golf_frame\n",
    "golf_frame.insert(loc = 13, column = 'Combined MPG difference', value = golf_frame['Combined MPG'].diff())\n",
    "\n",
    "# Avoid \"NaN\"\n",
    "golf_frame.fillna(0, inplace=True)\n",
    "\n",
    "# Create columns lists to form 19X3 list\n",
    "years_ls = golf_frame['Year'].values.tolist()\n",
    "mpg_ls = golf_frame['Combined MPG'].values.tolist()\n",
    "diff_ls = golf_frame['Combined MPG difference'].values.tolist()\n",
    "\n",
    "# Join lists\n",
    "mpg_golfs = [[years_ls[i], mpg_ls[i],diff_ls[i]] for i in range(19)]\n",
    "\n",
    "answer_dict[\"Q5\"] =  mpg_golfs"
   ]
  },
  {
   "cell_type": "code",
   "execution_count": 8,
   "metadata": {},
   "outputs": [],
   "source": [
    "########## Q6\n",
    "\n",
    "brand_list = ['Toyota','Ford','Volkswagen','Nissan','Honda']\n",
    "top5_co2_emissions = []\n",
    "\n",
    "for brand in brand_list:\n",
    "    brand_frame = data_frame[data_frame[\"Make\"] == brand]\n",
    "    top5 = brand_frame.nsmallest(5,'CO2 Emission Grams/Mile')\n",
    "    brand_co2 = list(top5['CO2 Emission Grams/Mile'])\n",
    "    brand_co2.insert(0,brand)\n",
    "    top5_co2_emissions.append(brand_co2)\n",
    "    \n",
    "answer_dict[\"Q6\"] =  top5_co2_emissions"
   ]
  },
  {
   "cell_type": "code",
   "execution_count": 9,
   "metadata": {},
   "outputs": [],
   "source": [
    "########## Q7\n",
    "\n",
    "import statistics\n",
    "\n",
    "years = [(1984, 1988), (1989, 1993), (1994, 1998), (1999, 2003), (2004, 2008), (2009, 2013), (2014, 2018)]\n",
    "median_ls=[]\n",
    "\n",
    "for i in range(len(years)):\n",
    "    tup = years[i]\n",
    "    group = data_frame.loc[(data_frame['Year'] >= tup[0]) & (data_frame['Year'] <= tup[1])]\n",
    "    median_ls.append(float(statistics.median(group['Combined MPG'])))\n",
    "\n",
    "\n",
    "join_list = [[years[i], median_ls[i]] for i in range(7)]\n",
    "\n",
    "answer_dict[\"Q7\"] =  join_list"
   ]
  },
  {
   "cell_type": "code",
   "execution_count": 10,
   "metadata": {},
   "outputs": [],
   "source": [
    "#pprint.pprint (answer_dict)"
   ]
  },
  {
   "cell_type": "code",
   "execution_count": 13,
   "metadata": {},
   "outputs": [],
   "source": []
  },
  {
   "cell_type": "code",
   "execution_count": null,
   "metadata": {},
   "outputs": [],
   "source": []
  }
 ],
 "metadata": {
  "kernelspec": {
   "display_name": "Python 3",
   "language": "python",
   "name": "python3"
  },
  "language_info": {
   "codemirror_mode": {
    "name": "ipython",
    "version": 3
   },
   "file_extension": ".py",
   "mimetype": "text/x-python",
   "name": "python",
   "nbconvert_exporter": "python",
   "pygments_lexer": "ipython3",
   "version": "3.7.4"
  }
 },
 "nbformat": 4,
 "nbformat_minor": 2
}
